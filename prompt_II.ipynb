{
 "cells": [
  {
   "cell_type": "markdown",
   "metadata": {},
   "source": [
    "# What drives the price of a car?\n",
    "\n",
    "![](images/kurt.jpeg)"
   ]
  },
  {
   "cell_type": "markdown",
   "metadata": {},
   "source": [
    "**OVERVIEW**\n",
    "\n",
    "In this application, you will explore a dataset from kaggle. The original dataset contained information on 3 million used cars. The provided dataset contains information on 426K cars to ensure speed of processing.  Your goal is to understand what factors make a car more or less expensive.  As a result of your analysis, you should provide clear recommendations to your client -- a used car dealership -- as to what consumers value in a used car."
   ]
  },
  {
   "cell_type": "markdown",
   "metadata": {},
   "source": [
    "### CRISP-DM Framework\n",
    "\n",
    "<center>\n",
    "    <img src = images/crisp.png width = 50%/>\n",
    "</center>\n",
    "\n",
    "\n",
    "To frame the task, throughout our practical applications we will refer back to a standard process in industry for data projects called CRISP-DM.  This process provides a framework for working through a data problem.  Your first step in this application will be to read through a brief overview of CRISP-DM [here](https://mo-pcco.s3.us-east-1.amazonaws.com/BH-PCMLAI/module_11/readings_starter.zip).  After reading the overview, answer the questions below."
   ]
  },
  {
   "cell_type": "markdown",
   "metadata": {},
   "source": [
    "### Business Understanding"
   ]
  },
  {
   "cell_type": "markdown",
   "metadata": {},
   "source": [
    "Bussiness Objective: The primary objective is determine what are the key attributes of an used car that drives the consumer behavior in an used car market."
   ]
  },
  {
   "cell_type": "markdown",
   "metadata": {},
   "source": [
    "Current situation: Inorder to assess the market we need to have access to all of the sales data across the geographies where the used car dealership operates and in some cases the also the data from the places where the dealership doesnot operate, because this will also help assess potential new markets."
   ]
  },
  {
   "cell_type": "markdown",
   "metadata": {},
   "source": [
    "Data Mining Goals:\n",
    "\n",
    "1. Collect all the sales data over the years.\n",
    "2. Collect all the customer information with following features\n",
    "     - Age\n",
    "     - Occupation\n",
    "     - Income\n",
    "     - Gender\n",
    "\n",
    "3. Collect all the data pertaining to the available inventory of vehicles. Key attributes to look for will be \n",
    "\n",
    "     - No of cylinders\n",
    "     - Fuel\n",
    "     - Odometer\n",
    "     - transmission\n",
    "     - etc"
   ]
  },
  {
   "cell_type": "markdown",
   "metadata": {},
   "source": [
    "### Data Understanding"
   ]
  },
  {
   "cell_type": "markdown",
   "metadata": {},
   "source": [
    "Here are the first step I would like to understand the dataset.\n",
    "1. First thing will be to analyse what columns or features will help in achieving my target goal.\n",
    "2. After identifying the key columns, the next goal will be to do a data quality check. \n",
    "    - Does the dataset have sufficient information to achieve the goal.\n",
    "    - Is there any missing info.\n",
    "    - Is dataset in right format?\n",
    "    - Does the dataset contains highly correlated values?\n",
    "    - I would also like to check the variance of data, becuase higher the variance , higher is quality for running machine learning algorithms.\n",
    "\n",
    "    "
   ]
  },
  {
   "cell_type": "markdown",
   "metadata": {},
   "source": [
    "Now after looking at first the data set, I can infer following points wrt dataset\n",
    "\n",
    "1. The dataset contains only the information on the car.\n",
    "2. It lacks data on the customer behavior and also the sales information.\n",
    "3. I see lot of rows have missing values. In this case where number of rows with mising column values is less, then we can drop those rows, but there are cases where the column itself has lot missing data, then it is better to drop that column itself from the datset.\n",
    "4. Some the critical categorical data can be tranformed to numerical values using onehot encoding. "
   ]
  },
  {
   "cell_type": "markdown",
   "metadata": {},
   "source": [
    "### Data Preparation\n",
    "\n",
    "After our initial exploration and fine tuning of the business understanding, it is time to construct our final dataset prior to modeling.  Here, we want to make sure to handle any integrity issues and cleaning, the engineering of new features, any transformations that we believe should happen (scaling, logarithms, normalization, etc.), and general preparation for modeling with `sklearn`. "
   ]
  },
  {
   "cell_type": "code",
   "execution_count": 183,
   "metadata": {},
   "outputs": [],
   "source": [
    "import pandas as pd\n",
    "import numpy as np\n",
    "import matplotlib.pyplot as plt\n",
    "import seaborn as sns\n",
    "import plotly.express as px\n",
    "from sklearn.linear_model import LinearRegression\n",
    "from sklearn.metrics import mean_squared_error\n",
    "import plotly.express as px\n",
    "from sklearn.discriminant_analysis import StandardScaler\n",
    "from sklearn.model_selection import GridSearchCV\n",
    "from sklearn.pipeline import Pipeline\n",
    "from sklearn.preprocessing import PolynomialFeatures\n",
    "from sklearn.linear_model import Ridge\n",
    "from sklearn.model_selection import train_test_split\n",
    "from sklearn.feature_selection import SequentialFeatureSelector\n",
    "from sklearn.metrics import mean_absolute_error"
   ]
  },
  {
   "cell_type": "code",
   "execution_count": 154,
   "metadata": {},
   "outputs": [],
   "source": [
    "df=pd.read_csv('data/vehicles.csv')"
   ]
  },
  {
   "cell_type": "code",
   "execution_count": 155,
   "metadata": {},
   "outputs": [
    {
     "data": {
      "text/html": [
       "<div>\n",
       "<style scoped>\n",
       "    .dataframe tbody tr th:only-of-type {\n",
       "        vertical-align: middle;\n",
       "    }\n",
       "\n",
       "    .dataframe tbody tr th {\n",
       "        vertical-align: top;\n",
       "    }\n",
       "\n",
       "    .dataframe thead th {\n",
       "        text-align: right;\n",
       "    }\n",
       "</style>\n",
       "<table border=\"1\" class=\"dataframe\">\n",
       "  <thead>\n",
       "    <tr style=\"text-align: right;\">\n",
       "      <th></th>\n",
       "      <th>id</th>\n",
       "      <th>region</th>\n",
       "      <th>price</th>\n",
       "      <th>year</th>\n",
       "      <th>manufacturer</th>\n",
       "      <th>model</th>\n",
       "      <th>condition</th>\n",
       "      <th>cylinders</th>\n",
       "      <th>fuel</th>\n",
       "      <th>odometer</th>\n",
       "      <th>title_status</th>\n",
       "      <th>transmission</th>\n",
       "      <th>VIN</th>\n",
       "      <th>drive</th>\n",
       "      <th>size</th>\n",
       "      <th>type</th>\n",
       "      <th>paint_color</th>\n",
       "      <th>state</th>\n",
       "    </tr>\n",
       "  </thead>\n",
       "  <tbody>\n",
       "    <tr>\n",
       "      <th>0</th>\n",
       "      <td>7222695916</td>\n",
       "      <td>prescott</td>\n",
       "      <td>6000</td>\n",
       "      <td>NaN</td>\n",
       "      <td>NaN</td>\n",
       "      <td>NaN</td>\n",
       "      <td>NaN</td>\n",
       "      <td>NaN</td>\n",
       "      <td>NaN</td>\n",
       "      <td>NaN</td>\n",
       "      <td>NaN</td>\n",
       "      <td>NaN</td>\n",
       "      <td>NaN</td>\n",
       "      <td>NaN</td>\n",
       "      <td>NaN</td>\n",
       "      <td>NaN</td>\n",
       "      <td>NaN</td>\n",
       "      <td>az</td>\n",
       "    </tr>\n",
       "    <tr>\n",
       "      <th>1</th>\n",
       "      <td>7218891961</td>\n",
       "      <td>fayetteville</td>\n",
       "      <td>11900</td>\n",
       "      <td>NaN</td>\n",
       "      <td>NaN</td>\n",
       "      <td>NaN</td>\n",
       "      <td>NaN</td>\n",
       "      <td>NaN</td>\n",
       "      <td>NaN</td>\n",
       "      <td>NaN</td>\n",
       "      <td>NaN</td>\n",
       "      <td>NaN</td>\n",
       "      <td>NaN</td>\n",
       "      <td>NaN</td>\n",
       "      <td>NaN</td>\n",
       "      <td>NaN</td>\n",
       "      <td>NaN</td>\n",
       "      <td>ar</td>\n",
       "    </tr>\n",
       "    <tr>\n",
       "      <th>2</th>\n",
       "      <td>7221797935</td>\n",
       "      <td>florida keys</td>\n",
       "      <td>21000</td>\n",
       "      <td>NaN</td>\n",
       "      <td>NaN</td>\n",
       "      <td>NaN</td>\n",
       "      <td>NaN</td>\n",
       "      <td>NaN</td>\n",
       "      <td>NaN</td>\n",
       "      <td>NaN</td>\n",
       "      <td>NaN</td>\n",
       "      <td>NaN</td>\n",
       "      <td>NaN</td>\n",
       "      <td>NaN</td>\n",
       "      <td>NaN</td>\n",
       "      <td>NaN</td>\n",
       "      <td>NaN</td>\n",
       "      <td>fl</td>\n",
       "    </tr>\n",
       "    <tr>\n",
       "      <th>3</th>\n",
       "      <td>7222270760</td>\n",
       "      <td>worcester / central MA</td>\n",
       "      <td>1500</td>\n",
       "      <td>NaN</td>\n",
       "      <td>NaN</td>\n",
       "      <td>NaN</td>\n",
       "      <td>NaN</td>\n",
       "      <td>NaN</td>\n",
       "      <td>NaN</td>\n",
       "      <td>NaN</td>\n",
       "      <td>NaN</td>\n",
       "      <td>NaN</td>\n",
       "      <td>NaN</td>\n",
       "      <td>NaN</td>\n",
       "      <td>NaN</td>\n",
       "      <td>NaN</td>\n",
       "      <td>NaN</td>\n",
       "      <td>ma</td>\n",
       "    </tr>\n",
       "    <tr>\n",
       "      <th>4</th>\n",
       "      <td>7210384030</td>\n",
       "      <td>greensboro</td>\n",
       "      <td>4900</td>\n",
       "      <td>NaN</td>\n",
       "      <td>NaN</td>\n",
       "      <td>NaN</td>\n",
       "      <td>NaN</td>\n",
       "      <td>NaN</td>\n",
       "      <td>NaN</td>\n",
       "      <td>NaN</td>\n",
       "      <td>NaN</td>\n",
       "      <td>NaN</td>\n",
       "      <td>NaN</td>\n",
       "      <td>NaN</td>\n",
       "      <td>NaN</td>\n",
       "      <td>NaN</td>\n",
       "      <td>NaN</td>\n",
       "      <td>nc</td>\n",
       "    </tr>\n",
       "  </tbody>\n",
       "</table>\n",
       "</div>"
      ],
      "text/plain": [
       "           id                  region  price  year manufacturer model  \\\n",
       "0  7222695916                prescott   6000   NaN          NaN   NaN   \n",
       "1  7218891961            fayetteville  11900   NaN          NaN   NaN   \n",
       "2  7221797935            florida keys  21000   NaN          NaN   NaN   \n",
       "3  7222270760  worcester / central MA   1500   NaN          NaN   NaN   \n",
       "4  7210384030              greensboro   4900   NaN          NaN   NaN   \n",
       "\n",
       "  condition cylinders fuel  odometer title_status transmission  VIN drive  \\\n",
       "0       NaN       NaN  NaN       NaN          NaN          NaN  NaN   NaN   \n",
       "1       NaN       NaN  NaN       NaN          NaN          NaN  NaN   NaN   \n",
       "2       NaN       NaN  NaN       NaN          NaN          NaN  NaN   NaN   \n",
       "3       NaN       NaN  NaN       NaN          NaN          NaN  NaN   NaN   \n",
       "4       NaN       NaN  NaN       NaN          NaN          NaN  NaN   NaN   \n",
       "\n",
       "  size type paint_color state  \n",
       "0  NaN  NaN         NaN    az  \n",
       "1  NaN  NaN         NaN    ar  \n",
       "2  NaN  NaN         NaN    fl  \n",
       "3  NaN  NaN         NaN    ma  \n",
       "4  NaN  NaN         NaN    nc  "
      ]
     },
     "execution_count": 155,
     "metadata": {},
     "output_type": "execute_result"
    }
   ],
   "source": [
    "df.head()"
   ]
  },
  {
   "cell_type": "code",
   "execution_count": 156,
   "metadata": {},
   "outputs": [],
   "source": [
    "df.drop(columns=['VIN','id'],axis=1,inplace=True)\n"
   ]
  },
  {
   "cell_type": "code",
   "execution_count": 157,
   "metadata": {},
   "outputs": [
    {
     "name": "stdout",
     "output_type": "stream",
     "text": [
      "<class 'pandas.core.frame.DataFrame'>\n",
      "RangeIndex: 426880 entries, 0 to 426879\n",
      "Data columns (total 16 columns):\n",
      " #   Column        Non-Null Count   Dtype \n",
      "---  ------        --------------   ----- \n",
      " 0   region        426880 non-null  string\n",
      " 1   price         426880 non-null  Int64 \n",
      " 2   year          425675 non-null  Int64 \n",
      " 3   manufacturer  409234 non-null  string\n",
      " 4   model         421603 non-null  string\n",
      " 5   condition     252776 non-null  string\n",
      " 6   cylinders     249202 non-null  string\n",
      " 7   fuel          423867 non-null  string\n",
      " 8   odometer      422480 non-null  Int64 \n",
      " 9   title_status  418638 non-null  string\n",
      " 10  transmission  424324 non-null  string\n",
      " 11  drive         296313 non-null  string\n",
      " 12  size          120519 non-null  string\n",
      " 13  type          334022 non-null  string\n",
      " 14  paint_color   296677 non-null  string\n",
      " 15  state         426880 non-null  string\n",
      "dtypes: Int64(3), string(13)\n",
      "memory usage: 53.3 MB\n"
     ]
    }
   ],
   "source": [
    "df_analysis=df.convert_dtypes()\n",
    "df_analysis.info()"
   ]
  },
  {
   "cell_type": "code",
   "execution_count": 158,
   "metadata": {},
   "outputs": [
    {
     "data": {
      "text/html": [
       "<div>\n",
       "<style scoped>\n",
       "    .dataframe tbody tr th:only-of-type {\n",
       "        vertical-align: middle;\n",
       "    }\n",
       "\n",
       "    .dataframe tbody tr th {\n",
       "        vertical-align: top;\n",
       "    }\n",
       "\n",
       "    .dataframe thead th {\n",
       "        text-align: right;\n",
       "    }\n",
       "</style>\n",
       "<table border=\"1\" class=\"dataframe\">\n",
       "  <thead>\n",
       "    <tr style=\"text-align: right;\">\n",
       "      <th></th>\n",
       "      <th>region</th>\n",
       "      <th>manufacturer</th>\n",
       "      <th>model</th>\n",
       "      <th>condition</th>\n",
       "      <th>cylinders</th>\n",
       "      <th>fuel</th>\n",
       "      <th>title_status</th>\n",
       "      <th>transmission</th>\n",
       "      <th>drive</th>\n",
       "      <th>size</th>\n",
       "      <th>type</th>\n",
       "      <th>paint_color</th>\n",
       "      <th>state</th>\n",
       "    </tr>\n",
       "  </thead>\n",
       "  <tbody>\n",
       "    <tr>\n",
       "      <th>count</th>\n",
       "      <td>426880</td>\n",
       "      <td>409234</td>\n",
       "      <td>421603</td>\n",
       "      <td>252776</td>\n",
       "      <td>249202</td>\n",
       "      <td>423867</td>\n",
       "      <td>418638</td>\n",
       "      <td>424324</td>\n",
       "      <td>296313</td>\n",
       "      <td>120519</td>\n",
       "      <td>334022</td>\n",
       "      <td>296677</td>\n",
       "      <td>426880</td>\n",
       "    </tr>\n",
       "    <tr>\n",
       "      <th>unique</th>\n",
       "      <td>404</td>\n",
       "      <td>42</td>\n",
       "      <td>29649</td>\n",
       "      <td>6</td>\n",
       "      <td>8</td>\n",
       "      <td>5</td>\n",
       "      <td>6</td>\n",
       "      <td>3</td>\n",
       "      <td>3</td>\n",
       "      <td>4</td>\n",
       "      <td>13</td>\n",
       "      <td>12</td>\n",
       "      <td>51</td>\n",
       "    </tr>\n",
       "    <tr>\n",
       "      <th>top</th>\n",
       "      <td>columbus</td>\n",
       "      <td>ford</td>\n",
       "      <td>f-150</td>\n",
       "      <td>good</td>\n",
       "      <td>6 cylinders</td>\n",
       "      <td>gas</td>\n",
       "      <td>clean</td>\n",
       "      <td>automatic</td>\n",
       "      <td>4wd</td>\n",
       "      <td>full-size</td>\n",
       "      <td>sedan</td>\n",
       "      <td>white</td>\n",
       "      <td>ca</td>\n",
       "    </tr>\n",
       "    <tr>\n",
       "      <th>freq</th>\n",
       "      <td>3608</td>\n",
       "      <td>70985</td>\n",
       "      <td>8009</td>\n",
       "      <td>121456</td>\n",
       "      <td>94169</td>\n",
       "      <td>356209</td>\n",
       "      <td>405117</td>\n",
       "      <td>336524</td>\n",
       "      <td>131904</td>\n",
       "      <td>63465</td>\n",
       "      <td>87056</td>\n",
       "      <td>79285</td>\n",
       "      <td>50614</td>\n",
       "    </tr>\n",
       "  </tbody>\n",
       "</table>\n",
       "</div>"
      ],
      "text/plain": [
       "          region manufacturer   model condition    cylinders    fuel  \\\n",
       "count     426880       409234  421603    252776       249202  423867   \n",
       "unique       404           42   29649         6            8       5   \n",
       "top     columbus         ford   f-150      good  6 cylinders     gas   \n",
       "freq        3608        70985    8009    121456        94169  356209   \n",
       "\n",
       "       title_status transmission   drive       size    type paint_color  \\\n",
       "count        418638       424324  296313     120519  334022      296677   \n",
       "unique            6            3       3          4      13          12   \n",
       "top           clean    automatic     4wd  full-size   sedan       white   \n",
       "freq         405117       336524  131904      63465   87056       79285   \n",
       "\n",
       "         state  \n",
       "count   426880  \n",
       "unique      51  \n",
       "top         ca  \n",
       "freq     50614  "
      ]
     },
     "execution_count": 158,
     "metadata": {},
     "output_type": "execute_result"
    }
   ],
   "source": [
    "df_analysis.describe(include='string')"
   ]
  },
  {
   "cell_type": "code",
   "execution_count": 159,
   "metadata": {},
   "outputs": [],
   "source": [
    "from sklearn.preprocessing import LabelEncoder\n",
    "\n",
    "for column in df_analysis.select_dtypes(include='string').columns:\n",
    "    df_analysis[column]=df_analysis[column].replace(np.nan, 'other')\n",
    "    df_analysis[column] = LabelEncoder().fit_transform(df_analysis[column])\n",
    "    \n",
    "\n",
    "for column in df_analysis.select_dtypes(include='int64').columns:\n",
    "    df_analysis[column]=df_analysis[column].replace(np.nan, 0)\n",
    "    df_analysis[column] = LabelEncoder().fit_transform(df_analysis[column])\n",
    "    \n"
   ]
  },
  {
   "cell_type": "code",
   "execution_count": 160,
   "metadata": {},
   "outputs": [
    {
     "data": {
      "text/plain": [
       "(390436, 16)"
      ]
     },
     "execution_count": 160,
     "metadata": {},
     "output_type": "execute_result"
    }
   ],
   "source": [
    "df_filtered = df_analysis[(df_analysis['price'] >= 100) & (df_analysis['price'] <= 1000000)]\n",
    "df_filtered.shape\n"
   ]
  },
  {
   "cell_type": "code",
   "execution_count": 161,
   "metadata": {},
   "outputs": [],
   "source": [
    "from sklearn.preprocessing import StandardScaler\n",
    "scaler = StandardScaler()\n",
    "df_scaled = scaler.fit_transform(df_filtered)\n",
    "df_scaled = pd.DataFrame(df_scaled, columns=df_filtered.columns)"
   ]
  },
  {
   "cell_type": "markdown",
   "metadata": {},
   "source": [
    "### Modeling\n",
    "\n",
    "With your (almost?) final dataset in hand, it is now time to build some models.  Here, you should build a number of different regression models with the price as the target.  In building your models, you should explore different parameters and be sure to cross-validate your findings."
   ]
  },
  {
   "cell_type": "code",
   "execution_count": 162,
   "metadata": {},
   "outputs": [],
   "source": [
    "X=df_scaled.drop('price',axis=1)\n",
    "y=df_scaled['price']"
   ]
  },
  {
   "cell_type": "code",
   "execution_count": 163,
   "metadata": {},
   "outputs": [],
   "source": [
    "X_train,X_test,y_train,y_test=train_test_split(X,y,test_size=0.3,random_state=42)"
   ]
  },
  {
   "cell_type": "code",
   "execution_count": 184,
   "metadata": {},
   "outputs": [
    {
     "data": {
      "text/plain": [
       "({'pol_regres__alpha': 100},\n",
       " 0.632143050385406,\n",
       " 0.3676730329351235,\n",
       " 0.4476926300700457,\n",
       " 0.6063604810136652)"
      ]
     },
     "execution_count": 184,
     "metadata": {},
     "output_type": "execute_result"
    }
   ],
   "source": [
    "\n",
    "ridge_pipe=Pipeline([('ply_feature',PolynomialFeatures(degree = 2, include_bias = False)),\n",
    "                     ('pol_regres',Ridge())])\n",
    "parameters_to_tune = [{'pol_regres__alpha':[0.1,10,100,1000]}]\n",
    "grid=GridSearchCV(ridge_pipe, parameters_to_tune, cv=10)\n",
    "grid.fit(X_train,y_train)\n",
    "test_mse=mean_squared_error(grid.predict(X_test),y_test)\n",
    "test_mae=mean_absolute_error(grid.predict(X_test),y_test)\n",
    "test_rmse=np.sqrt(test_mse)\n",
    "grid.best_params_,grid.best_score_,test_mse,test_mae,test_rmse"
   ]
  },
  {
   "cell_type": "code",
   "execution_count": 186,
   "metadata": {},
   "outputs": [
    {
     "data": {
      "text/plain": [
       "({'pol_regres__alpha': 10},\n",
       " 0.40944652587480884,\n",
       " 0.5852171054164604,\n",
       " 0.6004776034583587,\n",
       " 0.7649948401240759)"
      ]
     },
     "execution_count": 186,
     "metadata": {},
     "output_type": "execute_result"
    }
   ],
   "source": [
    "seq_ridge_pipe=Pipeline([('seq_feature',SequentialFeatureSelector(Ridge(),n_features_to_select=4)),\n",
    "                     ('pol_regres',Ridge())])\n",
    "parameters_to_tune = [{'pol_regres__alpha':[0.1,10,100,1000]}]\n",
    "seq_ridge_grid=GridSearchCV(seq_ridge_pipe, parameters_to_tune, cv=10)\n",
    "seq_ridge_grid.fit(X_train,y_train)\n",
    "test_mse=mean_squared_error(seq_ridge_grid.predict(X_test),y_test)\n",
    "test_mae=mean_absolute_error(seq_ridge_grid.predict(X_test),y_test)\n",
    "test_rmse=np.sqrt(test_mse)\n",
    "seq_ridge_grid.best_params_,seq_ridge_grid.best_score_,test_mse,test_mae,test_rmse"
   ]
  },
  {
   "cell_type": "code",
   "execution_count": 187,
   "metadata": {},
   "outputs": [
    {
     "data": {
      "text/plain": [
       "({'pol_regres__alpha': 0.1},\n",
       " 0.07773963825839988,\n",
       " 0.9232878069568385,\n",
       " 0.8329017710405356,\n",
       " 0.9608786640137446)"
      ]
     },
     "execution_count": 187,
     "metadata": {},
     "output_type": "execute_result"
    }
   ],
   "source": [
    "from sklearn.linear_model import Lasso\n",
    "seq_lasso_pipe=Pipeline([('seq_feature',SequentialFeatureSelector(Lasso(),n_features_to_select=4)),\n",
    "                     ('pol_regres',Lasso())])\n",
    "parameters_to_tune = [{'pol_regres__alpha':[0.1,10,100,1000]}]\n",
    "seq_lasso_grid=GridSearchCV(seq_lasso_pipe, parameters_to_tune, cv=10)\n",
    "seq_lasso_grid.fit(X_train,y_train)\n",
    "test_mse=mean_squared_error(seq_lasso_grid.predict(X_test),y_test)\n",
    "test_mae=mean_absolute_error(seq_lasso_grid.predict(X_test),y_test)\n",
    "test_rmse=np.sqrt(test_mse)\n",
    "seq_lasso_grid.best_params_,seq_lasso_grid.best_score_,test_mse,test_mae,test_rmse"
   ]
  },
  {
   "cell_type": "markdown",
   "metadata": {},
   "source": [
    "### Evaluation\n",
    "\n",
    "With some modeling accomplished, we aim to reflect on what we identify as a high quality model and what we are able to learn from this.  We should review our business objective and explore how well we can provide meaningful insight on drivers of used car prices.  Your goal now is to distill your findings and determine whether the earlier phases need revisitation and adjustment or if you have information of value to bring back to your client."
   ]
  },
  {
   "cell_type": "markdown",
   "metadata": {},
   "source": [
    "I have run 3 different kinds of regression with grid search CV\n",
    "1. Ridge regression with polynomial features.\n",
    "2. Ridge regression with sequential feature selection.\n",
    "3. Lasso regression with sequential feature selection.\n",
    "\n",
    "Here are the results\n",
    "\n",
    "![alt text](image.png)\n",
    "\n"
   ]
  },
  {
   "cell_type": "markdown",
   "metadata": {},
   "source": []
  },
  {
   "cell_type": "code",
   "execution_count": 176,
   "metadata": {},
   "outputs": [
    {
     "name": "stdout",
     "output_type": "stream",
     "text": [
      "Best features for Ridge Regression:  Index(['year', 'cylinders', 'fuel', 'odometer'], dtype='object')\n",
      "Best features for Lasso Regression:  Index(['region', 'year', 'manufacturer', 'model'], dtype='object')\n",
      "Best Features for Ridge Regression with polynomial features:  Index(['year', 'cylinders', 'fuel', 'odometer'], dtype='object')\n"
     ]
    }
   ],
   "source": [
    "# For Ridge Regression\n",
    "ridge_best_features = seq_ridge_grid.best_estimator_.named_steps['seq_feature'].get_support(indices=True)\n",
    "ridge_best_feature_names = X.columns[ridge_best_features]\n",
    "print(\"Best features for Ridge Regression: \", ridge_best_feature_names)\n",
    "\n",
    "# For Lasso Regression\n",
    "lasso_best_features = seq_lasso_grid.best_estimator_.named_steps['seq_feature'].get_support(indices=True)\n",
    "lasso_best_feature_names = X.columns[lasso_best_features]\n",
    "print(\"Best features for Lasso Regression: \", lasso_best_feature_names)\n",
    "\n",
    "best_params_ridge = grid.best_params_\n",
    "best_features=ridge_best_feature_names\n",
    "print(\"Best Features for Ridge Regression with polynomial features: \",best_features)"
   ]
  },
  {
   "cell_type": "markdown",
   "metadata": {},
   "source": [
    "### Lets try to plot the residual plots of all the three regression to measure the performance."
   ]
  },
  {
   "cell_type": "code",
   "execution_count": 181,
   "metadata": {},
   "outputs": [
    {
     "data": {
      "image/png": "[encoded data removed]",
      "text/plain": [
       "<Figure size 640x480 with 1 Axes>"
      ]
     },
     "metadata": {},
     "output_type": "display_data"
    }
   ],
   "source": [
    "residuals = y_test - grid.predict(X_test)\n",
    "sns.histplot(residuals, kde=True)\n",
    "plt.title('Distribution of Residuals of Ridge Regression with Polynomial Features')\n",
    "plt.show()"
   ]
  },
  {
   "cell_type": "code",
   "execution_count": 178,
   "metadata": {},
   "outputs": [
    {
     "data": {
      "image/png": "[encoded data removed]",
      "text/plain": [
       "<Figure size 640x480 with 1 Axes>"
      ]
     },
     "metadata": {},
     "output_type": "display_data"
    }
   ],
   "source": [
    "residuals = y_test - seq_ridge_grid.predict(X_test)\n",
    "sns.histplot(residuals, kde=True)\n",
    "plt.title('Distribution of Residuals with Sequential Feature Selection for Ridge Regression')\n",
    "plt.show()"
   ]
  },
  {
   "cell_type": "code",
   "execution_count": 179,
   "metadata": {},
   "outputs": [
    {
     "data": {
      "image/png": "[encoded data removed]",
      "text/plain": [
       "<Figure size 640x480 with 1 Axes>"
      ]
     },
     "metadata": {},
     "output_type": "display_data"
    }
   ],
   "source": [
    "residuals = y_test - seq_lasso_grid.predict(X_test)\n",
    "sns.histplot(residuals, kde=True)\n",
    "plt.title('Distribution of Residuals with Sequential Feature Selection for Lasso Regression')\n",
    "plt.show()"
   ]
  },
  {
   "cell_type": "markdown",
   "metadata": {},
   "source": [
    "Based on the results, the best model is the Ridge Regression with polynomial features. The best features for this model are: \n",
    "- Year\n",
    "- Cylinder\n",
    "- Fuel\n",
    "- Odometer \n",
    "\n",
    "The distribution of residuals for this model is also the most normal compared to the other models."
   ]
  },
  {
   "cell_type": "markdown",
   "metadata": {},
   "source": [
    "### Deployment\n",
    "\n",
    "Now that we've settled on our models and findings, it is time to deliver the information to the client.  You should organize your work as a basic report that details your primary findings.  Keep in mind that your audience is a group of used car dealers interested in fine tuning their inventory."
   ]
  },
  {
   "cell_type": "markdown",
   "metadata": {},
   "source": [
    "Based on the exploratory data analysis, consumers behavior are majorly around four attributes of a car and will impact the prices of the car.\n",
    "\n",
    "- Year of Manufacturing\n",
    "- Cylinder\n",
    "- Fuel\n",
    "- Odometer\n",
    "\n",
    "If they can build a web application which will help them predict the price of a car which they will buy from a seller and with appropriate margins can sell it to potential buyer with some profit. "
   ]
  }
 ],
 "metadata": {
  "kernelspec": {
   "display_name": "Python 3 (ipykernel)",
   "language": "python",
   "name": "python3"
  },
  "language_info": {
   "codemirror_mode": {
    "name": "ipython",
    "version": 3
   },
   "file_extension": ".py",
   "mimetype": "text/x-python",
   "name": "python",
   "nbconvert_exporter": "python",
   "pygments_lexer": "ipython3",
   "version": "3.11.5"
  },
  "widgets": {
   "application/vnd.jupyter.widget-state+json": {
    "state": {},
    "version_major": 2,
    "version_minor": 0
   }
  }
 },
 "nbformat": 4,
 "nbformat_minor": 4
}
